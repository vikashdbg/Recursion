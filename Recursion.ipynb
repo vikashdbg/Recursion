{
 "cells": [
  {
   "cell_type": "markdown",
   "metadata": {},
   "source": [
    "# Power Of A Number\n",
    "Write a program to find x to the power n (i.e. x^n). Take x and n from the user."
   ]
  },
  {
   "cell_type": "code",
   "execution_count": 2,
   "metadata": {},
   "outputs": [
    {
     "name": "stdout",
     "output_type": "stream",
     "text": [
      "4 3\n",
      "64\n"
     ]
    }
   ],
   "source": [
    "def power(a,x):\n",
    "    if x==0:\n",
    "        return 1\n",
    "    small=a*power(a,x-1)\n",
    "    return small\n",
    "\n",
    "a, x = input().split()\n",
    "a = int(a)\n",
    "x = int(x)\n",
    "ans=power(a,x)\n",
    "print(ans)"
   ]
  },
  {
   "cell_type": "markdown",
   "metadata": {},
   "source": [
    "# Sum Of Array\n",
    "Given an array of length N, you need to find and return the sum of all elements of the array."
   ]
  },
  {
   "cell_type": "code",
   "execution_count": 3,
   "metadata": {},
   "outputs": [
    {
     "name": "stdout",
     "output_type": "stream",
     "text": [
      "5\n",
      "43 54 65 78 98\n",
      "338\n"
     ]
    }
   ],
   "source": [
    "def sumArray(arr,n):\n",
    "    if n<=0:\n",
    "        return arr[0]\n",
    "    small=arr[n]+sumArray(arr,n-1)\n",
    "    return small\n",
    "    \n",
    "\n",
    "n=int(input())\n",
    "x=[int(s) for s in input().split()]\n",
    "ans=sumArray(x,n-1)\n",
    "print(ans)"
   ]
  },
  {
   "cell_type": "markdown",
   "metadata": {},
   "source": [
    "# Check Number in Array\n",
    "Given an array of length N and an integer x, you need to find if x is present in the array or not. Return true or false."
   ]
  },
  {
   "cell_type": "code",
   "execution_count": 4,
   "metadata": {},
   "outputs": [
    {
     "name": "stdout",
     "output_type": "stream",
     "text": [
      "5\n",
      "23 2 4 8 16\n",
      "4\n",
      "true\n"
     ]
    }
   ],
   "source": [
    "def checkNumber(arr, x,n):\n",
    "    if arr[n]==x:\n",
    "        return True\n",
    "    if n==0:\n",
    "        return False\n",
    "    small=checkNumber(arr,x,n-1)\n",
    "    return small\n",
    "    \n",
    "   \n",
    "# Main\n",
    "from sys import setrecursionlimit\n",
    "setrecursionlimit(11000)\n",
    "n=int(input())\n",
    "arr=list(int(i) for i in input().strip().split(' '))\n",
    "x=int(input())\n",
    "if checkNumber(arr, x,n-1):\n",
    "    print('true')\n",
    "else:\n",
    "    print('false')"
   ]
  },
  {
   "cell_type": "markdown",
   "metadata": {},
   "source": [
    "# First Index of Number\n",
    "Given an array of length N and an integer x, you need to find and return the first index of integer x present in the array. Return -1 if it is not present in the array."
   ]
  },
  {
   "cell_type": "code",
   "execution_count": 5,
   "metadata": {},
   "outputs": [
    {
     "name": "stdout",
     "output_type": "stream",
     "text": [
      "8\n",
      "2 3 4 2 34 3 5 7\n",
      "3\n",
      "1\n"
     ]
    }
   ],
   "source": [
    "def firstIndex(arr, x,m):\n",
    "    if arr[m]==x:\n",
    "        return m\n",
    "    if m==len(arr)-1:\n",
    "        return -1\n",
    "    small=firstIndex(arr,x,m+1)\n",
    "    return small\n",
    "        \n",
    "    \n",
    "    \n",
    "# Main\n",
    "from sys import setrecursionlimit\n",
    "setrecursionlimit(11000)\n",
    "n=int(input())\n",
    "arr=list(int(i) for i in input().strip().split(' '))\n",
    "x=int(input())\n",
    "m=0\n",
    "print(firstIndex(arr, x,m))"
   ]
  },
  {
   "cell_type": "markdown",
   "metadata": {},
   "source": [
    "# Last Index Of Number\n",
    "Given an array of length N and an integer x, you need to find and return the last index of integer x present in the array. Return -1 if it is not present in the array."
   ]
  },
  {
   "cell_type": "code",
   "execution_count": 6,
   "metadata": {},
   "outputs": [
    {
     "name": "stdout",
     "output_type": "stream",
     "text": [
      "7\n",
      "2 3 4 4 5 2 3\n",
      "4\n",
      "3\n"
     ]
    }
   ],
   "source": [
    "def lastindex(m,x,n,i):\n",
    "    if m[n]==x:\n",
    "        i=n\n",
    "    if n==len(m)-1:\n",
    "        return i\n",
    "    small=lastindex(m,x,n+1,i)\n",
    "    return small\n",
    "    \n",
    "\n",
    "n=int(input())\n",
    "m=[int(s) for s in input().split()]\n",
    "x=int(input())\n",
    "p=0\n",
    "i=-1\n",
    "ans=lastindex(m,x,p,i)\n",
    "print(ans)"
   ]
  },
  {
   "cell_type": "markdown",
   "metadata": {},
   "source": [
    "# Remove X\n",
    "Given a string, compute recursively a new string where all 'x' chars have been removed."
   ]
  },
  {
   "cell_type": "code",
   "execution_count": 7,
   "metadata": {},
   "outputs": [
    {
     "name": "stdout",
     "output_type": "stream",
     "text": [
      "abxxcdxxd\n",
      "abcdd\n"
     ]
    }
   ],
   "source": [
    "def removeX(string,n,o):\n",
    "    if n==len(string):\n",
    "        return o\n",
    "    if string[n]!='x':\n",
    "        o=o+string[n]\n",
    "    small=removeX(string,n+1,o)\n",
    "    return small\n",
    "        \n",
    "string = input()\n",
    "n=0\n",
    "o=''\n",
    "print(removeX(string,n,o))"
   ]
  },
  {
   "cell_type": "markdown",
   "metadata": {},
   "source": [
    "# Remove Duplicates Recursively\n",
    "Given a string S, remove consecutive duplicates from it recursively."
   ]
  },
  {
   "cell_type": "code",
   "execution_count": 8,
   "metadata": {},
   "outputs": [
    {
     "name": "stdout",
     "output_type": "stream",
     "text": [
      "aabbccddeefghab\n",
      "abcdefghab\n"
     ]
    }
   ],
   "source": [
    "def removeConsecutiveDuplicates(string,n,o):\n",
    "    if n==len(string)-1:\n",
    "        o+=string[-1]\n",
    "        return o\n",
    "    if string[n]!=string[n+1]:\n",
    "        o+=string[n]\n",
    "    small=removeConsecutiveDuplicates(string,n+1,o)\n",
    "    return small\n",
    "# Main\n",
    "string = input().strip()\n",
    "n=0\n",
    "o=''\n",
    "print(removeConsecutiveDuplicates(string,n,o))"
   ]
  },
  {
   "cell_type": "markdown",
   "metadata": {},
   "source": [
    "# Merge Sort Code\n",
    "Sort an array A using Merge Sort recursively."
   ]
  },
  {
   "cell_type": "code",
   "execution_count": 9,
   "metadata": {},
   "outputs": [
    {
     "name": "stdout",
     "output_type": "stream",
     "text": [
      "5\n",
      "5 4 3 2 1\n",
      "1 2 3 4 5 "
     ]
    }
   ],
   "source": [
    "def merging(arr1,arr2,arr):\n",
    "    i=0\n",
    "    j=0\n",
    "    k=0\n",
    "    while i < len(arr1) and j < len(arr2):\n",
    "        if arr1[i] < arr2[j]:\n",
    "            arr[k]=arr1[i]\n",
    "            k+=1\n",
    "            i+=1\n",
    "        else:\n",
    "            arr[k]=arr2[j]\n",
    "            k+=1\n",
    "            j+=1\n",
    "    while i < len(arr1):\n",
    "        arr[k]=arr1[i]\n",
    "        k+=1\n",
    "        i+=1\n",
    "    while j < len(arr2):\n",
    "        arr[k]=arr2[j]\n",
    "        k+=1\n",
    "        j+=1\n",
    "            \n",
    "def merge_sort(arr):\n",
    "    if len(arr) ==0 or len(arr)==1:\n",
    "        return\n",
    "    mid=len(arr)//2\n",
    "    arr1=arr[:mid]\n",
    "    arr2=arr[mid:]\n",
    "    merge_sort(arr1)\n",
    "    merge_sort(arr2)\n",
    "    arr3=merging(arr1,arr2,arr)\n",
    "    return arr3\n",
    "\n",
    "n=int(input())\n",
    "arr=[int(s) for s in input().split()]\n",
    "merge_sort(arr)\n",
    "for val in arr:\n",
    "    print(val,end=\" \")"
   ]
  },
  {
   "cell_type": "markdown",
   "metadata": {},
   "source": [
    "# Quick Sort Code\n",
    "Sort an array A using Quick Sort recursively."
   ]
  },
  {
   "cell_type": "code",
   "execution_count": 10,
   "metadata": {},
   "outputs": [
    {
     "name": "stdout",
     "output_type": "stream",
     "text": [
      "5\n",
      "5 4 3 2 1\n",
      "1 2 3 4 5\n"
     ]
    }
   ],
   "source": [
    "def partition(arr,si,ei):\n",
    "    pivot=arr[si]\n",
    "    c=0\n",
    "    for i in range(si,ei+1):\n",
    "        if arr[i] < pivot:\n",
    "            c+=1\n",
    "    pivot_index=si+c\n",
    "    arr[si+c],arr[si]=arr[si],arr[si+c]\n",
    "    i=si\n",
    "    j=ei\n",
    "    while i < j:\n",
    "        if arr[i] < pivot:\n",
    "            i+=1\n",
    "        elif arr[j] >=pivot:\n",
    "            j-=1\n",
    "        else:\n",
    "            arr[i],arr[j]=arr[j],arr[i]\n",
    "            i+=1\n",
    "            j-=1\n",
    "    return pivot_index\n",
    "\n",
    "def quickSort(arr, si, ei):\n",
    "    if si >= ei:\n",
    "        return\n",
    "    pivot_index=partition(arr,si,ei)\n",
    "    quickSort(arr,si,pivot_index-1)\n",
    "    quickSort(arr,pivot_index+1,ei)\n",
    "\n",
    "n=int(input())\n",
    "arr=list(int(i) for i in input().strip().split(' '))\n",
    "quickSort(arr, 0, n-1)\n",
    "print(*arr)"
   ]
  },
  {
   "cell_type": "markdown",
   "metadata": {},
   "source": [
    "# Tower Of Hanoi \n",
    "Tower of Hanoi is a mathematical puzzle where we have three rods and n disks. The objective of the puzzle is to move all disks from source rod to destination rod using third rod (say auxiliary). The rules are :\n",
    "1) Only one disk can be moved at a time.\n",
    "2) A disk can be moved only if it is on the top of a rod.\n",
    "3) No disk can be placed on the top of a smaller disk."
   ]
  },
  {
   "cell_type": "code",
   "execution_count": 12,
   "metadata": {},
   "outputs": [
    {
     "name": "stdout",
     "output_type": "stream",
     "text": [
      "5\n",
      "a --> c\n",
      "a --> b\n",
      "c --> b\n",
      "a --> c\n",
      "b --> a\n",
      "b --> c\n",
      "a --> c\n",
      "a --> b\n",
      "c --> b\n",
      "c --> a\n",
      "b --> a\n",
      "c --> b\n",
      "a --> c\n",
      "a --> b\n",
      "c --> b\n",
      "a --> c\n",
      "b --> a\n",
      "b --> c\n",
      "a --> c\n",
      "b --> a\n",
      "c --> b\n",
      "c --> a\n",
      "b --> a\n",
      "b --> c\n",
      "a --> c\n",
      "a --> b\n",
      "c --> b\n",
      "a --> c\n",
      "b --> a\n",
      "b --> c\n",
      "a --> c\n"
     ]
    }
   ],
   "source": [
    "def towerofhanoi(n, source, aux, dest):\n",
    "    if n==0:\n",
    "        return\n",
    "    if n==1:\n",
    "        print(source,\"-->\",dest)\n",
    "        return\n",
    "    towerofhanoi(n-1,source,dest,aux)\n",
    "    print(source,\"-->\",dest)\n",
    "    towerofhanoi(n-1,aux,source,dest)\n",
    "    \n",
    "    \n",
    "\n",
    "n=int(input())\n",
    "towerofhanoi(n, 'a', 'b', 'c')"
   ]
  },
  {
   "cell_type": "code",
   "execution_count": null,
   "metadata": {},
   "outputs": [],
   "source": []
  }
 ],
 "metadata": {
  "kernelspec": {
   "display_name": "Python 3",
   "language": "python",
   "name": "python3"
  },
  "language_info": {
   "codemirror_mode": {
    "name": "ipython",
    "version": 3
   },
   "file_extension": ".py",
   "mimetype": "text/x-python",
   "name": "python",
   "nbconvert_exporter": "python",
   "pygments_lexer": "ipython3",
   "version": "3.8.5"
  }
 },
 "nbformat": 4,
 "nbformat_minor": 4
}
